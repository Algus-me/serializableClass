{
 "cells": [
  {
   "cell_type": "code",
   "execution_count": 3,
   "metadata": {},
   "outputs": [
    {
     "ename": "NameError",
     "evalue": "name 'SerializableClass' is not defined",
     "output_type": "error",
     "traceback": [
      "\u001b[0;31m---------------------------------------------------------------------------\u001b[0m",
      "\u001b[0;31mNameError\u001b[0m                                 Traceback (most recent call last)",
      "\u001b[0;32m<ipython-input-3-e5990852eab7>\u001b[0m in \u001b[0;36m<module>\u001b[0;34m\u001b[0m\n\u001b[1;32m      1\u001b[0m \u001b[0;32mimport\u001b[0m \u001b[0mserializableClass\u001b[0m\u001b[0;34m\u001b[0m\u001b[0m\n\u001b[1;32m      2\u001b[0m \u001b[0;34m\u001b[0m\u001b[0m\n\u001b[0;32m----> 3\u001b[0;31m \u001b[0;32mclass\u001b[0m \u001b[0mrootClass\u001b[0m\u001b[0;34m(\u001b[0m\u001b[0mSerializableClass\u001b[0m\u001b[0;34m)\u001b[0m\u001b[0;34m:\u001b[0m\u001b[0;34m\u001b[0m\u001b[0m\n\u001b[0m\u001b[1;32m      4\u001b[0m     \u001b[0;32mdef\u001b[0m \u001b[0msaveThisObjectDataOnly_\u001b[0m\u001b[0;34m(\u001b[0m\u001b[0mself\u001b[0m\u001b[0;34m,\u001b[0m \u001b[0mfolder\u001b[0m\u001b[0;34m)\u001b[0m\u001b[0;34m:\u001b[0m\u001b[0;34m\u001b[0m\u001b[0m\n\u001b[1;32m      5\u001b[0m         \u001b[0mprint\u001b[0m\u001b[0;34m(\u001b[0m\u001b[0;34m\"save root\"\u001b[0m\u001b[0;34m)\u001b[0m\u001b[0;34m\u001b[0m\u001b[0m\n",
      "\u001b[0;31mNameError\u001b[0m: name 'SerializableClass' is not defined"
     ]
    }
   ],
   "source": [
    "import serializableClass\n",
    "\n",
    "class rootClass(SerializableClass):\n",
    "    def saveThisObjectDataOnly_(self, folder):\n",
    "        print(\"save root\")\n",
    "\n",
    "    def loadThisObjectDataOnly_(self, folder):\n",
    "        print(\"load root\")\n",
    "        \n",
    "rootClass.initNewRootOfInheritance()\n",
    "rootClass.registerClass(\"root\")\n",
    "\n",
    "class d1(rootClass):\n",
    "    def saveThisObjectDataOnly_(self, folder):\n",
    "        print(\"save d1\")\n",
    "\n",
    "    def loadThisObjectDataOnly_(self, folder):\n",
    "        print(\"load d1\")\n",
    "        \n",
    "d1.registerClass(\"d1\")\n",
    "\n",
    "class d2(rootClass):\n",
    "    def saveThisObjectDataOnly_(self, folder):\n",
    "        print(\"save d2\")\n",
    "\n",
    "    def loadThisObjectDataOnly_(self, folder):\n",
    "        print(\"load d2\")\n",
    "        \n",
    "d2.registerClass(\"d2\")\n",
    "\n",
    "class d3(d1, d2):\n",
    "    def saveThisObjectDataOnly_(self, folder):\n",
    "        print(\"save d3\")\n",
    "\n",
    "    def loadThisObjectDataOnly_(self, folder):\n",
    "        print(\"load d3\")\n",
    "        \n",
    "d3.registerClass(\"d3\")"
   ]
  },
  {
   "cell_type": "code",
   "execution_count": null,
   "metadata": {
    "collapsed": true
   },
   "outputs": [],
   "source": []
  }
 ],
 "metadata": {
  "kernelspec": {
   "display_name": "Python [conda env:deepPavlov]",
   "language": "python",
   "name": "conda-env-deepPavlov-py"
  },
  "language_info": {
   "codemirror_mode": {
    "name": "ipython",
    "version": 3
   },
   "file_extension": ".py",
   "mimetype": "text/x-python",
   "name": "python",
   "nbconvert_exporter": "python",
   "pygments_lexer": "ipython3",
   "version": "3.6.5"
  }
 },
 "nbformat": 4,
 "nbformat_minor": 2
}
